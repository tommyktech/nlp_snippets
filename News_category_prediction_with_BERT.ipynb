{
 "cells": [
  {
   "cell_type": "markdown",
   "metadata": {},
   "source": [
    "# ニュースのカテゴリをBERTで予測するNotebook\n",
    "データセットは<a href=\"https://www.rondhuit.com/download.html#ldcc\">ライブドアニュースのデータセット</a>を使用します。  \n",
    "ライブラリはTensorFlow(Keras)、Huggingfaceのtransformersです。  \n",
    "\n",
    "プログラムを組むにあたっては、transformersの以下のドキュメントを参考にしています。  \n",
    "https://huggingface.co/transformers/training.html  \n"
   ]
  },
  {
   "cell_type": "code",
   "execution_count": null,
   "metadata": {
    "ExecuteTime": {
     "end_time": "2021-05-26T15:03:05.232642Z",
     "start_time": "2021-05-26T15:03:03.659058Z"
    },
    "scrolled": true
   },
   "outputs": [],
   "source": [
    "# ライブドアニュースコーパスのダウンロード & 展開\n",
    "import requests\n",
    "\n",
    "# ダウンロードして保存\n",
    "url = \"https://www.rondhuit.com/download/ldcc-20140209.tar.gz\"\n",
    "r = requests.get(url, stream=True)\n",
    "\n",
    "local_filename = \"./ldcc-20140209/ldcc-20140209.tar.gz\"\n",
    "with open(local_filename, 'wb') as f:\n",
    "    for chunk in r.iter_content(chunk_size=1024): \n",
    "        if chunk:\n",
    "            f.write(chunk)\n",
    "            \n",
    "# 展開\n",
    "with tarfile.open(local_filename) as tar:\n",
    "    tar.extractall()"
   ]
  },
  {
   "cell_type": "code",
   "execution_count": 1,
   "metadata": {
    "ExecuteTime": {
     "end_time": "2021-05-29T12:20:06.227786Z",
     "start_time": "2021-05-29T12:18:29.746599Z"
    },
    "scrolled": true
   },
   "outputs": [
    {
     "name": "stdout",
     "output_type": "stream",
     "text": [
      "Index(['text', 'category'], dtype='object')\n"
     ]
    },
    {
     "data": {
      "text/html": [
       "<div>\n",
       "<style scoped>\n",
       "    .dataframe tbody tr th:only-of-type {\n",
       "        vertical-align: middle;\n",
       "    }\n",
       "\n",
       "    .dataframe tbody tr th {\n",
       "        vertical-align: top;\n",
       "    }\n",
       "\n",
       "    .dataframe thead th {\n",
       "        text-align: right;\n",
       "    }\n",
       "</style>\n",
       "<table border=\"1\" class=\"dataframe\">\n",
       "  <thead>\n",
       "    <tr style=\"text-align: right;\">\n",
       "      <th></th>\n",
       "      <th>text</th>\n",
       "      <th>label</th>\n",
       "    </tr>\n",
       "  </thead>\n",
       "  <tbody>\n",
       "    <tr>\n",
       "      <th>0</th>\n",
       "      <td>友人代表のスピーチ、独女はどうこなしている？　もうすぐジューン・ブライドと呼ばれる６月。独女...</td>\n",
       "      <td>0</td>\n",
       "    </tr>\n",
       "    <tr>\n",
       "      <th>1</th>\n",
       "      <td>ネットで断ち切れない元カレとの縁　携帯電話が普及する以前、恋人への連絡ツールは一般電話が普通...</td>\n",
       "      <td>0</td>\n",
       "    </tr>\n",
       "    <tr>\n",
       "      <th>2</th>\n",
       "      <td>相次ぐ芸能人の“すっぴん”披露　その時、独女の心境は？　「男性はやっぱり、女性の“すっぴん”...</td>\n",
       "      <td>0</td>\n",
       "    </tr>\n",
       "    <tr>\n",
       "      <th>3</th>\n",
       "      <td>ムダな抵抗！？ 加齢の現実　ヒップの加齢による変化は「たわむ→下がる→内に流れる」、バストは...</td>\n",
       "      <td>0</td>\n",
       "    </tr>\n",
       "    <tr>\n",
       "      <th>4</th>\n",
       "      <td>税金を払うのは私たちなんですけど！　6月から支給される子ども手当だが、当初は子ども一人当たり...</td>\n",
       "      <td>0</td>\n",
       "    </tr>\n",
       "    <tr>\n",
       "      <th>...</th>\n",
       "      <td>...</td>\n",
       "      <td>...</td>\n",
       "    </tr>\n",
       "    <tr>\n",
       "      <th>7362</th>\n",
       "      <td>爆笑問題・田中裕二も驚く「ひるおび!」での恵俊彰の“天然”ぶり28日に放送された「JUNK...</td>\n",
       "      <td>8</td>\n",
       "    </tr>\n",
       "    <tr>\n",
       "      <th>7363</th>\n",
       "      <td>黒田勇樹のDV騒動 ネット掲示板では冷ややかな声も30日、元俳優の黒田勇樹が、妻の中村瑠衣に...</td>\n",
       "      <td>8</td>\n",
       "    </tr>\n",
       "    <tr>\n",
       "      <th>7364</th>\n",
       "      <td>サムスンのアンドロイド搭載カメラが韓国で話題に韓国のIT専門ニュースサイト「ブロター・ネット...</td>\n",
       "      <td>8</td>\n",
       "    </tr>\n",
       "    <tr>\n",
       "      <th>7365</th>\n",
       "      <td>米紙も注目したゲーム「竹島争奪戦」米紙「ウォール・ストリート・ジャーナル」は29日、「竹島争...</td>\n",
       "      <td>8</td>\n",
       "    </tr>\n",
       "    <tr>\n",
       "      <th>7366</th>\n",
       "      <td>ジャンプ連載漫画が終了に、ユーザが新たな提案!?『ONE PIECE』や『NARUTO』、『...</td>\n",
       "      <td>8</td>\n",
       "    </tr>\n",
       "  </tbody>\n",
       "</table>\n",
       "<p>7367 rows × 2 columns</p>\n",
       "</div>"
      ],
      "text/plain": [
       "                                                   text  label\n",
       "0     友人代表のスピーチ、独女はどうこなしている？　もうすぐジューン・ブライドと呼ばれる６月。独女...      0\n",
       "1     ネットで断ち切れない元カレとの縁　携帯電話が普及する以前、恋人への連絡ツールは一般電話が普通...      0\n",
       "2     相次ぐ芸能人の“すっぴん”披露　その時、独女の心境は？　「男性はやっぱり、女性の“すっぴん”...      0\n",
       "3     ムダな抵抗！？ 加齢の現実　ヒップの加齢による変化は「たわむ→下がる→内に流れる」、バストは...      0\n",
       "4     税金を払うのは私たちなんですけど！　6月から支給される子ども手当だが、当初は子ども一人当たり...      0\n",
       "...                                                 ...    ...\n",
       "7362   爆笑問題・田中裕二も驚く「ひるおび!」での恵俊彰の“天然”ぶり28日に放送された「JUNK...      8\n",
       "7363  黒田勇樹のDV騒動 ネット掲示板では冷ややかな声も30日、元俳優の黒田勇樹が、妻の中村瑠衣に...      8\n",
       "7364  サムスンのアンドロイド搭載カメラが韓国で話題に韓国のIT専門ニュースサイト「ブロター・ネット...      8\n",
       "7365  米紙も注目したゲーム「竹島争奪戦」米紙「ウォール・ストリート・ジャーナル」は29日、「竹島争...      8\n",
       "7366  ジャンプ連載漫画が終了に、ユーザが新たな提案!?『ONE PIECE』や『NARUTO』、『...      8\n",
       "\n",
       "[7367 rows x 2 columns]"
      ]
     },
     "metadata": {},
     "output_type": "display_data"
    }
   ],
   "source": [
    "# 展開したファイルの読み込み\n",
    "import requests\n",
    "import os\n",
    "import pandas as pd\n",
    "import tensorflow as tf\n",
    "import numpy as np\n",
    "\n",
    "base_dir_name = \"ldcc-20140209/text/\"\n",
    "all_dirs = [name for name in os.listdir(base_dir_name) if os.path.isdir(base_dir_name + name)]\n",
    "all_files = [base_dir_name + dir_name + \"/\" + file_name for dir_name in all_dirs for file_name in os.listdir(base_dir_name + dir_name) if file_name != \"LICENSE.txt\"]\n",
    "\n",
    "news = []\n",
    "for file_path in all_files:\n",
    "    category = file_path.split(\"/\")[2]\n",
    "    with open(file_path, \"r\") as f:\n",
    "        text = f.read()\n",
    "        (url, datetime_str, title, body) = text.split(\"\\n\", maxsplit=3)\n",
    "        # タイトルと本文を合体させる\n",
    "        news.append({\"text\":title + body, \"category\": category})\n",
    "\n",
    "# dataframe にしておく\n",
    "news_df = pd.DataFrame(news)\n",
    "print(news_df.columns)\n",
    "\n",
    "# カテゴリを数字に変更しておく\n",
    "categories = pd.Categorical(news_df.category)\n",
    "news_df['label'] = categories.codes\n",
    "news_df = news_df.drop(columns=[\"category\"])\n",
    "display(news_df)"
   ]
  },
  {
   "cell_type": "code",
   "execution_count": 2,
   "metadata": {
    "ExecuteTime": {
     "end_time": "2021-05-29T12:20:07.697046Z",
     "start_time": "2021-05-29T12:20:06.227786Z"
    }
   },
   "outputs": [
    {
     "data": {
      "text/plain": [
       "Dataset({\n",
       "    features: ['text', 'label'],\n",
       "    num_rows: 7367\n",
       "})"
      ]
     },
     "execution_count": 2,
     "metadata": {},
     "output_type": "execute_result"
    }
   ],
   "source": [
    "# dataframe から transformers の dataset に変換(あとでshuffle+train_test_splitを使えるからこっちを使う)\n",
    "from datasets import Dataset\n",
    "dataset = Dataset.from_pandas(news_df)\n",
    "dataset"
   ]
  },
  {
   "cell_type": "code",
   "execution_count": 3,
   "metadata": {
    "ExecuteTime": {
     "end_time": "2021-05-29T12:20:35.332207Z",
     "start_time": "2021-05-29T12:20:07.697046Z"
    }
   },
   "outputs": [
    {
     "data": {
      "application/vnd.jupyter.widget-view+json": {
       "model_id": "da810edab9c841fd95ca12436e770d2c",
       "version_major": 2,
       "version_minor": 0
      },
      "text/plain": [
       "HBox(children=(FloatProgress(value=0.0, max=8.0), HTML(value='')))"
      ]
     },
     "metadata": {},
     "output_type": "display_data"
    },
    {
     "name": "stdout",
     "output_type": "stream",
     "text": [
      "\n"
     ]
    },
    {
     "data": {
      "text/plain": [
       "Dataset({\n",
       "    features: ['attention_mask', 'input_ids', 'label', 'text', 'token_type_ids'],\n",
       "    num_rows: 7367\n",
       "})"
      ]
     },
     "execution_count": 3,
     "metadata": {},
     "output_type": "execute_result"
    }
   ],
   "source": [
    "# tokenizeする\n",
    "from transformers import AutoTokenizer\n",
    "bert_folder = \"cl-tohoku/bert-base-japanese-whole-word-masking\"\n",
    "tokenizer = AutoTokenizer.from_pretrained(bert_folder)\n",
    "\n",
    "def tokenize_function(examples):\n",
    "    return tokenizer(examples[\"text\"], padding=\"max_length\", truncation=True, max_length=200)\n",
    "\n",
    "tokenized_datasets = dataset.map(tokenize_function, batched=True)\n",
    "tokenized_datasets"
   ]
  },
  {
   "cell_type": "code",
   "execution_count": 4,
   "metadata": {
    "ExecuteTime": {
     "end_time": "2021-05-29T12:20:35.347849Z",
     "start_time": "2021-05-29T12:20:35.332207Z"
    }
   },
   "outputs": [
    {
     "data": {
      "text/plain": [
       "Dataset({\n",
       "    features: ['attention_mask', 'input_ids', 'label', 'text', 'token_type_ids'],\n",
       "    num_rows: 5893\n",
       "})"
      ]
     },
     "execution_count": 4,
     "metadata": {},
     "output_type": "execute_result"
    }
   ],
   "source": [
    "# train と test に分けておく(このときついでにshuffleされる)\n",
    "tokenized_datasets = tokenized_datasets.train_test_split(0.2)\n",
    "tokenized_datasets\n",
    "\n",
    "full_train_dataset = tokenized_datasets[\"train\"]\n",
    "full_eval_dataset = tokenized_datasets[\"test\"]\n",
    "\n",
    "# 使わないカラムを除去しておく\n",
    "tf_train_dataset = full_train_dataset.remove_columns([\"text\"]).with_format(\"tensorflow\")\n",
    "tf_eval_dataset = full_eval_dataset.remove_columns([\"text\"]).with_format(\"tensorflow\")\n",
    "tf_train_dataset\n",
    "\n",
    "full_train_dataset"
   ]
  },
  {
   "cell_type": "code",
   "execution_count": 5,
   "metadata": {
    "ExecuteTime": {
     "end_time": "2021-05-29T12:20:46.982813Z",
     "start_time": "2021-05-29T12:20:35.347849Z"
    }
   },
   "outputs": [],
   "source": [
    "# 'attention_mask', 'input_ids', 'token_type_ids', labelを抽出してtensorflowのdataset形式にする\n",
    "batch_size = 8\n",
    "train_features = {x: tf_train_dataset[x].to_tensor() for x in tokenizer.model_input_names}\n",
    "train_tf_dataset = tf.data.Dataset.from_tensor_slices((train_features, tf_train_dataset[\"label\"]))\n",
    "train_tf_dataset = train_tf_dataset.batch(batch_size)\n",
    "\n",
    "# eval側も同じく\n",
    "eval_features = {x: tf_eval_dataset[x].to_tensor() for x in tokenizer.model_input_names}\n",
    "eval_tf_dataset = tf.data.Dataset.from_tensor_slices((eval_features, tf_eval_dataset[\"label\"]))\n",
    "eval_tf_dataset = eval_tf_dataset.batch(batch_size)\n",
    "\n",
    "# save と load をするならこれを使う。\n",
    "# tf.data.experimental.save(train_tf_dataset, \"news_train_tf.ds\")\n",
    "# tf.data.experimental.save(eval_tf_dataset, \"news_eval_tf.ds\")\n",
    "\n",
    "# train_tf_dataset = tf.data.experimental.load(\"news_train_tf.ds\")\n",
    "# eval_tf_dataset = tf.data.experimental.load(\"news_eval_tf.ds\")"
   ]
  },
  {
   "cell_type": "code",
   "execution_count": 13,
   "metadata": {
    "ExecuteTime": {
     "end_time": "2021-05-26T18:02:10.455500Z",
     "start_time": "2021-05-26T17:47:57.212781Z"
    },
    "scrolled": false
   },
   "outputs": [
    {
     "name": "stdout",
     "output_type": "stream",
     "text": [
      "cl-tohoku/bert-base-japanese-whole-word-masking\n"
     ]
    },
    {
     "name": "stderr",
     "output_type": "stream",
     "text": [
      "All model checkpoint layers were used when initializing TFBertForSequenceClassification.\n",
      "\n",
      "Some layers of TFBertForSequenceClassification were not initialized from the model checkpoint at cl-tohoku/bert-base-japanese-whole-word-masking and are newly initialized: ['classifier']\n",
      "You should probably TRAIN this model on a down-stream task to be able to use it for predictions and inference.\n"
     ]
    },
    {
     "name": "stdout",
     "output_type": "stream",
     "text": [
      "Epoch 1/2\n",
      "WARNING:tensorflow:The parameters `output_attentions`, `output_hidden_states` and `use_cache` cannot be updated when calling a model.They have to be set to True/False in the config object (i.e.: `config=XConfig.from_pretrained('name', output_attentions=True)`).\n",
      "WARNING:tensorflow:AutoGraph could not transform <bound method Socket.send of <zmq.sugar.socket.Socket object at 0x000001A82B23CDD8>> and will run it as-is.\n",
      "Please report this to the TensorFlow team. When filing the bug, set the verbosity to 10 (on Linux, `export AUTOGRAPH_VERBOSITY=10`) and attach the full output.\n",
      "Cause: module, class, method, function, traceback, frame, or code object was expected, got cython_function_or_method\n",
      "To silence this warning, decorate the function with @tf.autograph.experimental.do_not_convert\n",
      "WARNING: AutoGraph could not transform <bound method Socket.send of <zmq.sugar.socket.Socket object at 0x000001A82B23CDD8>> and will run it as-is.\n",
      "Please report this to the TensorFlow team. When filing the bug, set the verbosity to 10 (on Linux, `export AUTOGRAPH_VERBOSITY=10`) and attach the full output.\n",
      "Cause: module, class, method, function, traceback, frame, or code object was expected, got cython_function_or_method\n",
      "To silence this warning, decorate the function with @tf.autograph.experimental.do_not_convert\n",
      "WARNING:tensorflow:The parameter `return_dict` cannot be set in graph mode and will always be set to `True`.\n",
      "WARNING:tensorflow:The parameters `output_attentions`, `output_hidden_states` and `use_cache` cannot be updated when calling a model.They have to be set to True/False in the config object (i.e.: `config=XConfig.from_pretrained('name', output_attentions=True)`).\n",
      "WARNING:tensorflow:The parameter `return_dict` cannot be set in graph mode and will always be set to `True`.\n",
      "737/737 [==============================] - ETA: 0s - loss: 0.7794 - sparse_categorical_accuracy: 0.7590WARNING:tensorflow:The parameters `output_attentions`, `output_hidden_states` and `use_cache` cannot be updated when calling a model.They have to be set to True/False in the config object (i.e.: `config=XConfig.from_pretrained('name', output_attentions=True)`).\n",
      "WARNING:tensorflow:The parameter `return_dict` cannot be set in graph mode and will always be set to `True`.\n",
      "737/737 [==============================] - 429s 568ms/step - loss: 0.7790 - sparse_categorical_accuracy: 0.7591 - val_loss: 0.2464 - val_sparse_categorical_accuracy: 0.9206\n",
      "Epoch 2/2\n",
      "737/737 [==============================] - 419s 569ms/step - loss: 0.1700 - sparse_categorical_accuracy: 0.9474 - val_loss: 0.2552 - val_sparse_categorical_accuracy: 0.9261\n"
     ]
    },
    {
     "data": {
      "text/plain": [
       "<tensorflow.python.keras.callbacks.History at 0x1aa7ac25f48>"
      ]
     },
     "execution_count": 13,
     "metadata": {},
     "output_type": "execute_result"
    }
   ],
   "source": [
    "# BERT モデルをロードしてtraining実行\n",
    "from transformers import TFAutoModelForSequenceClassification\n",
    "print(bert_folder)\n",
    "model = TFAutoModelForSequenceClassification.from_pretrained(bert_folder, num_labels=9)\n",
    "\n",
    "model.compile(\n",
    "    optimizer=tf.keras.optimizers.Adam(learning_rate=5e-5),\n",
    "    loss=tf.keras.losses.SparseCategoricalCrossentropy(from_logits=True),\n",
    "    metrics=tf.metrics.SparseCategoricalAccuracy(),\n",
    ")\n",
    "\n",
    "model.fit(train_tf_dataset, validation_data=eval_tf_dataset, epochs=2)"
   ]
  },
  {
   "cell_type": "markdown",
   "metadata": {},
   "source": [
    "### パラメータ変更によるスコアの影響メモ\n",
    "max_length: 100 の場合\n",
    "<pre>\n",
    "737/737 [==============================] - 209s 274ms/step - loss: 0.8824 - sparse_categorical_accuracy: 0.7181 - val_loss: 0.2752 - val_sparse_categorical_accuracy: 0.9213\n",
    "Epoch 2/3\n",
    "737/737 [==============================] - 202s 274ms/step - loss: 0.1971 - sparse_categorical_accuracy: 0.9426 - val_loss: 0.2329 - val_sparse_categorical_accuracy: 0.9301\n",
    "Epoch 3/3\n",
    "737/737 [==============================] - 202s 274ms/step - loss: 0.0794 - sparse_categorical_accuracy: 0.9795 - val_loss: 0.2825 - val_sparse_categorical_accuracy: 0.9227\n",
    "</pre>\n",
    "\n",
    "max_length: 200 の場合\n",
    "<pre>\n",
    "737/737 [==============================] - 428s 567ms/step - loss: 0.8875 - sparse_categorical_accuracy: 0.7085 - val_loss: 0.2794 - val_sparse_categorical_accuracy: 0.9172\n",
    "Epoch 2/3\n",
    "737/737 [==============================] - 417s 566ms/step - loss: 0.1850 - sparse_categorical_accuracy: 0.9415 - val_loss: 0.2178 - val_sparse_categorical_accuracy: 0.9423\n",
    "Epoch 3/3\n",
    "737/737 [==============================] - 418s 567ms/step - loss: 0.0860 - sparse_categorical_accuracy: 0.9779 - val_loss: 0.3017 - val_sparse_categorical_accuracy: 0.9261\n",
    "</pre>"
   ]
  },
  {
   "cell_type": "code",
   "execution_count": 7,
   "metadata": {
    "ExecuteTime": {
     "end_time": "2021-05-29T12:22:00.882021Z",
     "start_time": "2021-05-29T12:21:59.690950Z"
    },
    "scrolled": true
   },
   "outputs": [
    {
     "name": "stderr",
     "output_type": "stream",
     "text": [
      "All model checkpoint layers were used when initializing TFBertForSequenceClassification.\n",
      "\n",
      "All the layers of TFBertForSequenceClassification were initialized from the model checkpoint at BERT_pretrained_for_livedoor_news_max_len_200.\n",
      "If your task is similar to the task the model of the checkpoint was trained on, you can already use TFBertForSequenceClassification for predictions without further training.\n"
     ]
    }
   ],
   "source": [
    "# モデルを保存/ロード\n",
    "from transformers import TFAutoModelForSequenceClassification\n",
    "pretrained_model_path = \"BERT_pretrained_for_livedoor_news_max_len_200\"\n",
    "# model.save_pretrained(pretrained_model_path)\n",
    "model = TFAutoModelForSequenceClassification.from_pretrained(pretrained_model_path, num_labels=9)"
   ]
  },
  {
   "cell_type": "code",
   "execution_count": 8,
   "metadata": {
    "ExecuteTime": {
     "end_time": "2021-05-29T12:22:35.590333Z",
     "start_time": "2021-05-29T12:22:07.176810Z"
    }
   },
   "outputs": [
    {
     "name": "stdout",
     "output_type": "stream",
     "text": [
      "WARNING:tensorflow:The parameters `output_attentions`, `output_hidden_states` and `use_cache` cannot be updated when calling a model.They have to be set to True/False in the config object (i.e.: `config=XConfig.from_pretrained('name', output_attentions=True)`).\n",
      "WARNING:tensorflow:AutoGraph could not transform <bound method Socket.send of <zmq.sugar.socket.Socket object at 0x00000175155ACDD8>> and will run it as-is.\n",
      "Please report this to the TensorFlow team. When filing the bug, set the verbosity to 10 (on Linux, `export AUTOGRAPH_VERBOSITY=10`) and attach the full output.\n",
      "Cause: module, class, method, function, traceback, frame, or code object was expected, got cython_function_or_method\n",
      "To silence this warning, decorate the function with @tf.autograph.experimental.do_not_convert\n",
      "WARNING: AutoGraph could not transform <bound method Socket.send of <zmq.sugar.socket.Socket object at 0x00000175155ACDD8>> and will run it as-is.\n",
      "Please report this to the TensorFlow team. When filing the bug, set the verbosity to 10 (on Linux, `export AUTOGRAPH_VERBOSITY=10`) and attach the full output.\n",
      "Cause: module, class, method, function, traceback, frame, or code object was expected, got cython_function_or_method\n",
      "To silence this warning, decorate the function with @tf.autograph.experimental.do_not_convert\n",
      "WARNING:tensorflow:The parameter `return_dict` cannot be set in graph mode and will always be set to `True`.\n"
     ]
    },
    {
     "data": {
      "text/plain": [
       "array([0, 1, 2, 3, 4, 5, 6, 7, 8], dtype=int64)"
      ]
     },
     "execution_count": 8,
     "metadata": {},
     "output_type": "execute_result"
    }
   ],
   "source": [
    "# predict してみる。eval データだけど。\n",
    "pred = model.predict(eval_tf_dataset)\n",
    "pred_labels = np.argmax(pred.logits, axis=1)\n",
    "np.unique(pred_labels)"
   ]
  },
  {
   "cell_type": "code",
   "execution_count": 9,
   "metadata": {
    "ExecuteTime": {
     "end_time": "2021-05-29T12:22:43.119887Z",
     "start_time": "2021-05-29T12:22:43.089039Z"
    }
   },
   "outputs": [
    {
     "data": {
      "text/plain": [
       "{0: 'dokujo-tsushin',\n",
       " 1: 'it-life-hack',\n",
       " 2: 'kaden-channel',\n",
       " 3: 'livedoor-homme',\n",
       " 4: 'movie-enter',\n",
       " 5: 'peachy',\n",
       " 6: 'smax',\n",
       " 7: 'sports-watch',\n",
       " 8: 'topic-news'}"
      ]
     },
     "execution_count": 9,
     "metadata": {},
     "output_type": "execute_result"
    }
   ],
   "source": [
    "# 数字のLabelからカテゴリ名に変換するdictionaryを作る\n",
    "label2category = pd.DataFrame({\"label\": categories.codes, \"category\": categories}).drop_duplicates().set_index(\"label\").to_dict()[\"category\"]\n",
    "label2category"
   ]
  },
  {
   "cell_type": "code",
   "execution_count": 26,
   "metadata": {
    "ExecuteTime": {
     "end_time": "2021-05-29T12:42:40.665645Z",
     "start_time": "2021-05-29T12:42:40.619182Z"
    }
   },
   "outputs": [
    {
     "data": {
      "text/html": [
       "<div>\n",
       "<style scoped>\n",
       "    .dataframe tbody tr th:only-of-type {\n",
       "        vertical-align: middle;\n",
       "    }\n",
       "\n",
       "    .dataframe tbody tr th {\n",
       "        vertical-align: top;\n",
       "    }\n",
       "\n",
       "    .dataframe thead th {\n",
       "        text-align: right;\n",
       "    }\n",
       "</style>\n",
       "<table border=\"1\" class=\"dataframe\">\n",
       "  <thead>\n",
       "    <tr style=\"text-align: right;\">\n",
       "      <th></th>\n",
       "      <th>pred</th>\n",
       "      <th>answer</th>\n",
       "      <th>text</th>\n",
       "    </tr>\n",
       "  </thead>\n",
       "  <tbody>\n",
       "    <tr>\n",
       "      <th>0</th>\n",
       "      <td>topic-news</td>\n",
       "      <td>topic-news</td>\n",
       "      <td>NHK「ひるブラ」で放送事故が発生21日に放送されたNHKの紀行バラエティー番組「ひるブラ」...</td>\n",
       "    </tr>\n",
       "    <tr>\n",
       "      <th>1</th>\n",
       "      <td>movie-enter</td>\n",
       "      <td>movie-enter</td>\n",
       "      <td>ミスチルが書き下ろした主題歌とともに、初恋の出会いを綴る　ひたむきな愛が運命をも変える！　3...</td>\n",
       "    </tr>\n",
       "    <tr>\n",
       "      <th>2</th>\n",
       "      <td>smax</td>\n",
       "      <td>smax</td>\n",
       "      <td>【女子力アップスマホ！ドコモ×ファッションブランドコラボモデル「F-09D ANTEPRIM...</td>\n",
       "    </tr>\n",
       "    <tr>\n",
       "      <th>3</th>\n",
       "      <td>kaden-channel</td>\n",
       "      <td>kaden-channel</td>\n",
       "      <td>やはり気になる……ガイガーカウンターの購入を考える人は全体の17．2％【話題】福島第一原子力...</td>\n",
       "    </tr>\n",
       "    <tr>\n",
       "      <th>4</th>\n",
       "      <td>smax</td>\n",
       "      <td>smax</td>\n",
       "      <td>Microsoft、クラウドストレージサービス「SkyDrive」のAndroid向けアプリ...</td>\n",
       "    </tr>\n",
       "    <tr>\n",
       "      <th>5</th>\n",
       "      <td>kaden-channel</td>\n",
       "      <td>kaden-channel</td>\n",
       "      <td>グリーが世界へ！　1億5千万人規模のプラットフォーム「GREE Platform」【話題】グ...</td>\n",
       "    </tr>\n",
       "    <tr>\n",
       "      <th>6</th>\n",
       "      <td>sports-watch</td>\n",
       "      <td>sports-watch</td>\n",
       "      <td>【Sports Watch】東原亜希“デスブログ”、スポーツ界を超越柔道家・井上康生の妻でタ...</td>\n",
       "    </tr>\n",
       "    <tr>\n",
       "      <th>7</th>\n",
       "      <td>it-life-hack</td>\n",
       "      <td>kaden-channel</td>\n",
       "      <td>ハンガーに掛けたままスピード乾燥！シャープ、プラズマクラスター洗濯機がパワーアップシャープは...</td>\n",
       "    </tr>\n",
       "    <tr>\n",
       "      <th>8</th>\n",
       "      <td>peachy</td>\n",
       "      <td>peachy</td>\n",
       "      <td>“神社コンシェルジュ”が選ぶ、2011年こそ結婚成就させるなら「芝大神宮」　2011年はスタ...</td>\n",
       "    </tr>\n",
       "    <tr>\n",
       "      <th>9</th>\n",
       "      <td>smax</td>\n",
       "      <td>smax</td>\n",
       "      <td>スタイラスとの相性抜群！コミケカタログを持ち歩ける「CC-Viewer」（利用編）【Wind...</td>\n",
       "    </tr>\n",
       "    <tr>\n",
       "      <th>10</th>\n",
       "      <td>dokujo-tsushin</td>\n",
       "      <td>dokujo-tsushin</td>\n",
       "      <td>コトが終わったあとのピロートークは必要かなかなか聞けないセックスの話。しかし、お酒が入るとこ...</td>\n",
       "    </tr>\n",
       "    <tr>\n",
       "      <th>11</th>\n",
       "      <td>peachy</td>\n",
       "      <td>peachy</td>\n",
       "      <td>アラサー女子は、転職よりもむしろ“自分磨き”に興味アリ　パクパク食べることが大好きな女子は、...</td>\n",
       "    </tr>\n",
       "    <tr>\n",
       "      <th>12</th>\n",
       "      <td>movie-enter</td>\n",
       "      <td>movie-enter</td>\n",
       "      <td>いま話題の人気アイドルたちが、一夜限りの大共演　吉川友をはじめ、今話題の女性アイドル＆女優が...</td>\n",
       "    </tr>\n",
       "    <tr>\n",
       "      <th>13</th>\n",
       "      <td>sports-watch</td>\n",
       "      <td>sports-watch</td>\n",
       "      <td>【Sports Watch】斎藤を悩ませたストーカー問題とは？今年のドラフト会議で、1位指名...</td>\n",
       "    </tr>\n",
       "    <tr>\n",
       "      <th>14</th>\n",
       "      <td>peachy</td>\n",
       "      <td>peachy</td>\n",
       "      <td>ショップ情報もチェックできる話題のスナップアプリ「T.B.G.!」のAndroid版がリリー...</td>\n",
       "    </tr>\n",
       "    <tr>\n",
       "      <th>15</th>\n",
       "      <td>sports-watch</td>\n",
       "      <td>sports-watch</td>\n",
       "      <td>香川真司、メッシを語る「分かっていても止められない」いよいよ後半戦に突入する欧州チャンピオン...</td>\n",
       "    </tr>\n",
       "    <tr>\n",
       "      <th>16</th>\n",
       "      <td>dokujo-tsushin</td>\n",
       "      <td>dokujo-tsushin</td>\n",
       "      <td>男友達が多いと彼ができない!?仕事の愚痴を言い合ったり、相談をできる男友達が複数いる尚美さん...</td>\n",
       "    </tr>\n",
       "    <tr>\n",
       "      <th>17</th>\n",
       "      <td>sports-watch</td>\n",
       "      <td>sports-watch</td>\n",
       "      <td>【Sports Watch】上田桃子「この度、結婚致します」今年のはじめから痛めていたヒザ痛...</td>\n",
       "    </tr>\n",
       "    <tr>\n",
       "      <th>18</th>\n",
       "      <td>movie-enter</td>\n",
       "      <td>movie-enter</td>\n",
       "      <td>次世代ジェットコースター・ショッカー・ミステリー！　『スクリーム4』がブルーレイ＆DVDにな...</td>\n",
       "    </tr>\n",
       "    <tr>\n",
       "      <th>19</th>\n",
       "      <td>kaden-channel</td>\n",
       "      <td>kaden-channel</td>\n",
       "      <td>時間つぶしに有効？　ゲーセンに設置されている一人用カラオケボックス【話題】一人カラオケ専門の...</td>\n",
       "    </tr>\n",
       "  </tbody>\n",
       "</table>\n",
       "</div>"
      ],
      "text/plain": [
       "              pred          answer  \\\n",
       "0       topic-news      topic-news   \n",
       "1      movie-enter     movie-enter   \n",
       "2             smax            smax   \n",
       "3    kaden-channel   kaden-channel   \n",
       "4             smax            smax   \n",
       "5    kaden-channel   kaden-channel   \n",
       "6     sports-watch    sports-watch   \n",
       "7     it-life-hack   kaden-channel   \n",
       "8           peachy          peachy   \n",
       "9             smax            smax   \n",
       "10  dokujo-tsushin  dokujo-tsushin   \n",
       "11          peachy          peachy   \n",
       "12     movie-enter     movie-enter   \n",
       "13    sports-watch    sports-watch   \n",
       "14          peachy          peachy   \n",
       "15    sports-watch    sports-watch   \n",
       "16  dokujo-tsushin  dokujo-tsushin   \n",
       "17    sports-watch    sports-watch   \n",
       "18     movie-enter     movie-enter   \n",
       "19   kaden-channel   kaden-channel   \n",
       "\n",
       "                                                 text  \n",
       "0   NHK「ひるブラ」で放送事故が発生21日に放送されたNHKの紀行バラエティー番組「ひるブラ」...  \n",
       "1   ミスチルが書き下ろした主題歌とともに、初恋の出会いを綴る　ひたむきな愛が運命をも変える！　3...  \n",
       "2   【女子力アップスマホ！ドコモ×ファッションブランドコラボモデル「F-09D ANTEPRIM...  \n",
       "3   やはり気になる……ガイガーカウンターの購入を考える人は全体の17．2％【話題】福島第一原子力...  \n",
       "4   Microsoft、クラウドストレージサービス「SkyDrive」のAndroid向けアプリ...  \n",
       "5   グリーが世界へ！　1億5千万人規模のプラットフォーム「GREE Platform」【話題】グ...  \n",
       "6   【Sports Watch】東原亜希“デスブログ”、スポーツ界を超越柔道家・井上康生の妻でタ...  \n",
       "7   ハンガーに掛けたままスピード乾燥！シャープ、プラズマクラスター洗濯機がパワーアップシャープは...  \n",
       "8   “神社コンシェルジュ”が選ぶ、2011年こそ結婚成就させるなら「芝大神宮」　2011年はスタ...  \n",
       "9   スタイラスとの相性抜群！コミケカタログを持ち歩ける「CC-Viewer」（利用編）【Wind...  \n",
       "10  コトが終わったあとのピロートークは必要かなかなか聞けないセックスの話。しかし、お酒が入るとこ...  \n",
       "11  アラサー女子は、転職よりもむしろ“自分磨き”に興味アリ　パクパク食べることが大好きな女子は、...  \n",
       "12  いま話題の人気アイドルたちが、一夜限りの大共演　吉川友をはじめ、今話題の女性アイドル＆女優が...  \n",
       "13  【Sports Watch】斎藤を悩ませたストーカー問題とは？今年のドラフト会議で、1位指名...  \n",
       "14  ショップ情報もチェックできる話題のスナップアプリ「T.B.G.!」のAndroid版がリリー...  \n",
       "15  香川真司、メッシを語る「分かっていても止められない」いよいよ後半戦に突入する欧州チャンピオン...  \n",
       "16  男友達が多いと彼ができない!?仕事の愚痴を言い合ったり、相談をできる男友達が複数いる尚美さん...  \n",
       "17  【Sports Watch】上田桃子「この度、結婚致します」今年のはじめから痛めていたヒザ痛...  \n",
       "18  次世代ジェットコースター・ショッカー・ミステリー！　『スクリーム4』がブルーレイ＆DVDにな...  \n",
       "19  時間つぶしに有効？　ゲーセンに設置されている一人用カラオケボックス【話題】一人カラオケ専門の...  "
      ]
     },
     "execution_count": 26,
     "metadata": {},
     "output_type": "execute_result"
    }
   ],
   "source": [
    "# カテゴリ名の予測値と正解をタイトル+本文とともに出力してみる\n",
    "answer = tf_eval_dataset[\"label\"].numpy()\n",
    "pred_answer_df = pd.DataFrame({\"pred\": pred_labels, \"answer\": answer, \"text\": full_eval_dataset[\"text\"]})\n",
    "pred_answer_df[\"pred\"] = pred_answer_df.pred.apply(lambda x: label2category[x])\n",
    "pred_answer_df[\"answer\"] = pred_answer_df.answer.apply(lambda x: label2category[x])\n",
    "pred_answer_df[:20]"
   ]
  },
  {
   "cell_type": "code",
   "execution_count": 28,
   "metadata": {
    "ExecuteTime": {
     "end_time": "2021-05-29T12:43:37.105848Z",
     "start_time": "2021-05-29T12:43:37.090627Z"
    }
   },
   "outputs": [
    {
     "data": {
      "text/html": [
       "<div>\n",
       "<style scoped>\n",
       "    .dataframe tbody tr th:only-of-type {\n",
       "        vertical-align: middle;\n",
       "    }\n",
       "\n",
       "    .dataframe tbody tr th {\n",
       "        vertical-align: top;\n",
       "    }\n",
       "\n",
       "    .dataframe thead th {\n",
       "        text-align: right;\n",
       "    }\n",
       "</style>\n",
       "<table border=\"1\" class=\"dataframe\">\n",
       "  <thead>\n",
       "    <tr style=\"text-align: right;\">\n",
       "      <th></th>\n",
       "      <th>pred</th>\n",
       "      <th>answer</th>\n",
       "      <th>text</th>\n",
       "    </tr>\n",
       "  </thead>\n",
       "  <tbody>\n",
       "    <tr>\n",
       "      <th>7</th>\n",
       "      <td>it-life-hack</td>\n",
       "      <td>kaden-channel</td>\n",
       "      <td>ハンガーに掛けたままスピード乾燥！シャープ、プラズマクラスター洗濯機がパワーアップシャープは...</td>\n",
       "    </tr>\n",
       "    <tr>\n",
       "      <th>50</th>\n",
       "      <td>topic-news</td>\n",
       "      <td>it-life-hack</td>\n",
       "      <td>行間を読む　翻訳のされ方で大きく印象が変わる言葉の難しさ先日来日した折に日本のテレビ局の音楽...</td>\n",
       "    </tr>\n",
       "    <tr>\n",
       "      <th>59</th>\n",
       "      <td>peachy</td>\n",
       "      <td>movie-enter</td>\n",
       "      <td>インタビュ—：ウィリー・ガーソン（モジー役）ウィリー・ガーソン：みなさん、アイルランドからい...</td>\n",
       "    </tr>\n",
       "    <tr>\n",
       "      <th>60</th>\n",
       "      <td>movie-enter</td>\n",
       "      <td>livedoor-homme</td>\n",
       "      <td>インタビュー：福山雅治「日本は奇跡の列島」歌手で俳優の福山雅治がナビゲーターを務めるNHKの...</td>\n",
       "    </tr>\n",
       "    <tr>\n",
       "      <th>79</th>\n",
       "      <td>movie-enter</td>\n",
       "      <td>peachy</td>\n",
       "      <td>ウォンビンインタビュー「お互い寄り添うように助け合う愛もある」直筆サイン特別プレゼント迫力の...</td>\n",
       "    </tr>\n",
       "    <tr>\n",
       "      <th>...</th>\n",
       "      <td>...</td>\n",
       "      <td>...</td>\n",
       "      <td>...</td>\n",
       "    </tr>\n",
       "    <tr>\n",
       "      <th>1349</th>\n",
       "      <td>dokujo-tsushin</td>\n",
       "      <td>livedoor-homme</td>\n",
       "      <td>ソーシャル通販サイトVIVA JAPAN にて junhashimoto 2012春夏コレク...</td>\n",
       "    </tr>\n",
       "    <tr>\n",
       "      <th>1358</th>\n",
       "      <td>dokujo-tsushin</td>\n",
       "      <td>livedoor-homme</td>\n",
       "      <td>［第1回］オトコのホンネ座談会“独女と非独女は何か違うの？”8月2日、独女通信がブログメディ...</td>\n",
       "    </tr>\n",
       "    <tr>\n",
       "      <th>1384</th>\n",
       "      <td>peachy</td>\n",
       "      <td>dokujo-tsushin</td>\n",
       "      <td>次のバケーションはトルコに決まり！イスタンブールとエーゲ海エリアを巡る、“Blue Turk...</td>\n",
       "    </tr>\n",
       "    <tr>\n",
       "      <th>1420</th>\n",
       "      <td>it-life-hack</td>\n",
       "      <td>smax</td>\n",
       "      <td>かわいいから大人買いしたい！邪魔なケーブルをすっきりできる「ドロイド君 ケーブルホルダー」【...</td>\n",
       "    </tr>\n",
       "    <tr>\n",
       "      <th>1459</th>\n",
       "      <td>dokujo-tsushin</td>\n",
       "      <td>livedoor-homme</td>\n",
       "      <td>フォーエバー２１旗艦店が銀座に進出　米国ロサンゼルス発のファストファッションチェーン「フォー...</td>\n",
       "    </tr>\n",
       "  </tbody>\n",
       "</table>\n",
       "<p>109 rows × 3 columns</p>\n",
       "</div>"
      ],
      "text/plain": [
       "                pred          answer  \\\n",
       "7       it-life-hack   kaden-channel   \n",
       "50        topic-news    it-life-hack   \n",
       "59            peachy     movie-enter   \n",
       "60       movie-enter  livedoor-homme   \n",
       "79       movie-enter          peachy   \n",
       "...              ...             ...   \n",
       "1349  dokujo-tsushin  livedoor-homme   \n",
       "1358  dokujo-tsushin  livedoor-homme   \n",
       "1384          peachy  dokujo-tsushin   \n",
       "1420    it-life-hack            smax   \n",
       "1459  dokujo-tsushin  livedoor-homme   \n",
       "\n",
       "                                                   text  \n",
       "7     ハンガーに掛けたままスピード乾燥！シャープ、プラズマクラスター洗濯機がパワーアップシャープは...  \n",
       "50    行間を読む　翻訳のされ方で大きく印象が変わる言葉の難しさ先日来日した折に日本のテレビ局の音楽...  \n",
       "59    インタビュ—：ウィリー・ガーソン（モジー役）ウィリー・ガーソン：みなさん、アイルランドからい...  \n",
       "60    インタビュー：福山雅治「日本は奇跡の列島」歌手で俳優の福山雅治がナビゲーターを務めるNHKの...  \n",
       "79    ウォンビンインタビュー「お互い寄り添うように助け合う愛もある」直筆サイン特別プレゼント迫力の...  \n",
       "...                                                 ...  \n",
       "1349  ソーシャル通販サイトVIVA JAPAN にて junhashimoto 2012春夏コレク...  \n",
       "1358  ［第1回］オトコのホンネ座談会“独女と非独女は何か違うの？”8月2日、独女通信がブログメディ...  \n",
       "1384  次のバケーションはトルコに決まり！イスタンブールとエーゲ海エリアを巡る、“Blue Turk...  \n",
       "1420  かわいいから大人買いしたい！邪魔なケーブルをすっきりできる「ドロイド君 ケーブルホルダー」【...  \n",
       "1459  フォーエバー２１旗艦店が銀座に進出　米国ロサンゼルス発のファストファッションチェーン「フォー...  \n",
       "\n",
       "[109 rows x 3 columns]"
      ]
     },
     "execution_count": 28,
     "metadata": {},
     "output_type": "execute_result"
    }
   ],
   "source": [
    "# 予測が外れたニュースのみを表示してみる\n",
    "pred_answer_df.loc[pred_answer_df.pred != pred_answer_df.answer]"
   ]
  }
 ],
 "metadata": {
  "kernelspec": {
   "display_name": "Python 3",
   "language": "python",
   "name": "python3"
  },
  "language_info": {
   "codemirror_mode": {
    "name": "ipython",
    "version": 3
   },
   "file_extension": ".py",
   "mimetype": "text/x-python",
   "name": "python",
   "nbconvert_exporter": "python",
   "pygments_lexer": "ipython3",
   "version": "3.7.9"
  }
 },
 "nbformat": 4,
 "nbformat_minor": 4
}
